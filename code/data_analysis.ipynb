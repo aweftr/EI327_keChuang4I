{
 "cells": [
  {
   "cell_type": "code",
   "execution_count": 1,
   "metadata": {},
   "outputs": [],
   "source": [
    "import pandas as pd \n",
    "import matplotlib.pyplot as plt \n",
    "import numpy as np \n",
    "import numpy.matlib\n",
    "import pickle"
   ]
  },
  {
   "cell_type": "code",
   "execution_count": 2,
   "metadata": {},
   "outputs": [
    {
     "output_type": "execute_result",
     "data": {
      "text/plain": "         病案号码      病人性质名称 病人性别 病人年龄      入院途径 入院情况       入院日期       出院日期  \\\n0  1000427842  城镇职工基本医疗保险    男  29岁  其他医疗机构转入   一般 2012-12-27 2013-01-02   \n1  1000428273  城镇职工基本医疗保险    女  63岁  其他医疗机构转入   一般 2012-12-31 2013-01-02   \n2  1000428273  城镇职工基本医疗保险    女  63岁  其他医疗机构转入   一般 2012-12-31 2013-01-02   \n3  1000428485         全自费    男  46岁  其他医疗机构转入   一般 2013-01-01 2013-01-03   \n4  1000428555  城镇职工基本医疗保险    男  29岁        急诊   一般 2013-01-02 2013-01-03   \n\n     门诊诊断   入院诊断  ... 球蛋白类制品费 细胞因子类制品费  血蛋白类制品费  中医治疗费   其他费1    其他费2  \\\n0  环状视网膜病  视网膜脱离  ...       0        0        0      0  102.0  1400.0   \n1    晶体混浊    白内障  ...       0        0        0      0    0.0     0.0   \n2    晶体混浊    白内障  ...       0        0        0      0    0.0     0.0   \n3   泪小管断裂  泪小管裂伤  ...       0        0        0      0   27.4     0.0   \n4     NaN   眼睑囊肿  ...       0        0        0      0    0.0     0.0   \n\n             损伤中毒  并发症 第一感染       其它诊断名称  \n0             NaN  NaN  NaN         屈光不正  \n1             NaN  NaN  NaN    糖尿病不伴有并发症  \n2             NaN  NaN  NaN  特发性(原发性)高血压  \n3  被别人殴打、踢、拧、咬或抓伤  NaN  NaN          NaN  \n4             NaN  NaN  NaN          NaN  \n\n[5 rows x 50 columns]",
      "text/html": "<div>\n<style scoped>\n    .dataframe tbody tr th:only-of-type {\n        vertical-align: middle;\n    }\n\n    .dataframe tbody tr th {\n        vertical-align: top;\n    }\n\n    .dataframe thead th {\n        text-align: right;\n    }\n</style>\n<table border=\"1\" class=\"dataframe\">\n  <thead>\n    <tr style=\"text-align: right;\">\n      <th></th>\n      <th>病案号码</th>\n      <th>病人性质名称</th>\n      <th>病人性别</th>\n      <th>病人年龄</th>\n      <th>入院途径</th>\n      <th>入院情况</th>\n      <th>入院日期</th>\n      <th>出院日期</th>\n      <th>门诊诊断</th>\n      <th>入院诊断</th>\n      <th>...</th>\n      <th>球蛋白类制品费</th>\n      <th>细胞因子类制品费</th>\n      <th>血蛋白类制品费</th>\n      <th>中医治疗费</th>\n      <th>其他费1</th>\n      <th>其他费2</th>\n      <th>损伤中毒</th>\n      <th>并发症</th>\n      <th>第一感染</th>\n      <th>其它诊断名称</th>\n    </tr>\n  </thead>\n  <tbody>\n    <tr>\n      <th>0</th>\n      <td>1000427842</td>\n      <td>城镇职工基本医疗保险</td>\n      <td>男</td>\n      <td>29岁</td>\n      <td>其他医疗机构转入</td>\n      <td>一般</td>\n      <td>2012-12-27</td>\n      <td>2013-01-02</td>\n      <td>环状视网膜病</td>\n      <td>视网膜脱离</td>\n      <td>...</td>\n      <td>0</td>\n      <td>0</td>\n      <td>0</td>\n      <td>0</td>\n      <td>102.0</td>\n      <td>1400.0</td>\n      <td>NaN</td>\n      <td>NaN</td>\n      <td>NaN</td>\n      <td>屈光不正</td>\n    </tr>\n    <tr>\n      <th>1</th>\n      <td>1000428273</td>\n      <td>城镇职工基本医疗保险</td>\n      <td>女</td>\n      <td>63岁</td>\n      <td>其他医疗机构转入</td>\n      <td>一般</td>\n      <td>2012-12-31</td>\n      <td>2013-01-02</td>\n      <td>晶体混浊</td>\n      <td>白内障</td>\n      <td>...</td>\n      <td>0</td>\n      <td>0</td>\n      <td>0</td>\n      <td>0</td>\n      <td>0.0</td>\n      <td>0.0</td>\n      <td>NaN</td>\n      <td>NaN</td>\n      <td>NaN</td>\n      <td>糖尿病不伴有并发症</td>\n    </tr>\n    <tr>\n      <th>2</th>\n      <td>1000428273</td>\n      <td>城镇职工基本医疗保险</td>\n      <td>女</td>\n      <td>63岁</td>\n      <td>其他医疗机构转入</td>\n      <td>一般</td>\n      <td>2012-12-31</td>\n      <td>2013-01-02</td>\n      <td>晶体混浊</td>\n      <td>白内障</td>\n      <td>...</td>\n      <td>0</td>\n      <td>0</td>\n      <td>0</td>\n      <td>0</td>\n      <td>0.0</td>\n      <td>0.0</td>\n      <td>NaN</td>\n      <td>NaN</td>\n      <td>NaN</td>\n      <td>特发性(原发性)高血压</td>\n    </tr>\n    <tr>\n      <th>3</th>\n      <td>1000428485</td>\n      <td>全自费</td>\n      <td>男</td>\n      <td>46岁</td>\n      <td>其他医疗机构转入</td>\n      <td>一般</td>\n      <td>2013-01-01</td>\n      <td>2013-01-03</td>\n      <td>泪小管断裂</td>\n      <td>泪小管裂伤</td>\n      <td>...</td>\n      <td>0</td>\n      <td>0</td>\n      <td>0</td>\n      <td>0</td>\n      <td>27.4</td>\n      <td>0.0</td>\n      <td>被别人殴打、踢、拧、咬或抓伤</td>\n      <td>NaN</td>\n      <td>NaN</td>\n      <td>NaN</td>\n    </tr>\n    <tr>\n      <th>4</th>\n      <td>1000428555</td>\n      <td>城镇职工基本医疗保险</td>\n      <td>男</td>\n      <td>29岁</td>\n      <td>急诊</td>\n      <td>一般</td>\n      <td>2013-01-02</td>\n      <td>2013-01-03</td>\n      <td>NaN</td>\n      <td>眼睑囊肿</td>\n      <td>...</td>\n      <td>0</td>\n      <td>0</td>\n      <td>0</td>\n      <td>0</td>\n      <td>0.0</td>\n      <td>0.0</td>\n      <td>NaN</td>\n      <td>NaN</td>\n      <td>NaN</td>\n      <td>NaN</td>\n    </tr>\n  </tbody>\n</table>\n<p>5 rows × 50 columns</p>\n</div>"
     },
     "metadata": {},
     "execution_count": 2
    }
   ],
   "source": [
    "sheet = pd.read_excel('../data/eye_diagnose.xls', sheet_name=0, header=1)\n",
    "sheet = sheet.drop_duplicates()\n",
    "sheet = sheet.reset_index().drop(columns=['index'])\n",
    "sheet.head()"
   ]
  },
  {
   "cell_type": "code",
   "execution_count": 3,
   "metadata": {},
   "outputs": [],
   "source": [
    "tmp = sheet[[\"病案号码\", \"病人性质名称\", \"病人性别\", \"病人年龄\", \"入院途径\", \"门诊诊断\", \"入院诊断\", \"主要诊断\", \"手术名称\"]]"
   ]
  },
  {
   "cell_type": "code",
   "execution_count": 4,
   "metadata": {},
   "outputs": [
    {
     "output_type": "execute_result",
     "data": {
      "text/plain": "         病案号码      病人性质名称 病人性别 病人年龄      入院途径    门诊诊断   入院诊断   主要诊断       手术名称\n0  1000427842  城镇职工基本医疗保险    男  29岁  其他医疗机构转入  环状视网膜病  视网膜脱离  视网膜脱离  后入路玻璃体切割术\n1  1000428273  城镇职工基本医疗保险    女  63岁  其他医疗机构转入    晶体混浊    白内障    白内障        NaN\n2  1000428273  城镇职工基本医疗保险    女  63岁  其他医疗机构转入    晶体混浊    白内障    白内障        NaN\n3  1000428485         全自费    男  46岁  其他医疗机构转入   泪小管断裂  泪小管裂伤  泪小管裂伤     泪小管吻合术\n4  1000428555  城镇职工基本医疗保险    男  29岁        急诊     NaN   眼睑囊肿   眼睑囊肿    眼睑囊肿摘除术",
      "text/html": "<div>\n<style scoped>\n    .dataframe tbody tr th:only-of-type {\n        vertical-align: middle;\n    }\n\n    .dataframe tbody tr th {\n        vertical-align: top;\n    }\n\n    .dataframe thead th {\n        text-align: right;\n    }\n</style>\n<table border=\"1\" class=\"dataframe\">\n  <thead>\n    <tr style=\"text-align: right;\">\n      <th></th>\n      <th>病案号码</th>\n      <th>病人性质名称</th>\n      <th>病人性别</th>\n      <th>病人年龄</th>\n      <th>入院途径</th>\n      <th>门诊诊断</th>\n      <th>入院诊断</th>\n      <th>主要诊断</th>\n      <th>手术名称</th>\n    </tr>\n  </thead>\n  <tbody>\n    <tr>\n      <th>0</th>\n      <td>1000427842</td>\n      <td>城镇职工基本医疗保险</td>\n      <td>男</td>\n      <td>29岁</td>\n      <td>其他医疗机构转入</td>\n      <td>环状视网膜病</td>\n      <td>视网膜脱离</td>\n      <td>视网膜脱离</td>\n      <td>后入路玻璃体切割术</td>\n    </tr>\n    <tr>\n      <th>1</th>\n      <td>1000428273</td>\n      <td>城镇职工基本医疗保险</td>\n      <td>女</td>\n      <td>63岁</td>\n      <td>其他医疗机构转入</td>\n      <td>晶体混浊</td>\n      <td>白内障</td>\n      <td>白内障</td>\n      <td>NaN</td>\n    </tr>\n    <tr>\n      <th>2</th>\n      <td>1000428273</td>\n      <td>城镇职工基本医疗保险</td>\n      <td>女</td>\n      <td>63岁</td>\n      <td>其他医疗机构转入</td>\n      <td>晶体混浊</td>\n      <td>白内障</td>\n      <td>白内障</td>\n      <td>NaN</td>\n    </tr>\n    <tr>\n      <th>3</th>\n      <td>1000428485</td>\n      <td>全自费</td>\n      <td>男</td>\n      <td>46岁</td>\n      <td>其他医疗机构转入</td>\n      <td>泪小管断裂</td>\n      <td>泪小管裂伤</td>\n      <td>泪小管裂伤</td>\n      <td>泪小管吻合术</td>\n    </tr>\n    <tr>\n      <th>4</th>\n      <td>1000428555</td>\n      <td>城镇职工基本医疗保险</td>\n      <td>男</td>\n      <td>29岁</td>\n      <td>急诊</td>\n      <td>NaN</td>\n      <td>眼睑囊肿</td>\n      <td>眼睑囊肿</td>\n      <td>眼睑囊肿摘除术</td>\n    </tr>\n  </tbody>\n</table>\n</div>"
     },
     "metadata": {},
     "execution_count": 4
    }
   ],
   "source": [
    "tmp.head()"
   ]
  },
  {
   "cell_type": "code",
   "execution_count": 5,
   "metadata": {},
   "outputs": [],
   "source": [
    "tmp = tmp.rename(columns={\"病案号码\":\"number\", \"病人性质名称\":\"type\", \"病人性别\":\"sex\", \"病人年龄\":\"age\", \"入院途径\":\"to_hospital\", \"门诊诊断\":\"diag_1\", \"入院诊断\":\"diag_2\", \"主要诊断\":\"diag_3\", \"手术名称\":\"operation_name\"})"
   ]
  },
  {
   "cell_type": "code",
   "execution_count": 6,
   "metadata": {},
   "outputs": [
    {
     "output_type": "execute_result",
     "data": {
      "text/plain": "True"
     },
     "metadata": {},
     "execution_count": 6
    }
   ],
   "source": [
    "type(tmp['age'][0]) == str"
   ]
  },
  {
   "cell_type": "code",
   "execution_count": 7,
   "metadata": {
    "tags": [
     "outputPrepend",
     "outputPrepend",
     "outputPrepend",
     "outputPrepend",
     "outputPrepend",
     "outputPrepend",
     "outputPrepend",
     "outputPrepend",
     "outputPrepend"
    ]
   },
   "outputs": [],
   "source": [
    "for i in range(len(tmp['age'])):\n",
    "    if type(tmp['age'][i]) == str:\n",
    "        if len(tmp['age'][i].split('个')) == 2:\n",
    "            tmp['age'][i] = 0 \n",
    "        else:\n",
    "            tmp['age'][i] = int(tmp['age'][i].split('岁')[0])\n",
    "        # 存在‘2个月5天’，以及‘7岁7月’的现象\n",
    "        # print(tmp['age'][i])"
   ]
  },
  {
   "cell_type": "code",
   "execution_count": 8,
   "metadata": {},
   "outputs": [
    {
     "output_type": "display_data",
     "data": {
      "text/plain": "<Figure size 1080x432 with 1 Axes>",
      "image/svg+xml": "<?xml version=\"1.0\" encoding=\"utf-8\" standalone=\"no\"?>\r\n<!DOCTYPE svg PUBLIC \"-//W3C//DTD SVG 1.1//EN\"\r\n  \"http://www.w3.org/Graphics/SVG/1.1/DTD/svg11.dtd\">\r\n<!-- Created with matplotlib (https://matplotlib.org/) -->\r\n<svg height=\"357.238125pt\" version=\"1.1\" viewBox=\"0 0 877.4875 357.238125\" width=\"877.4875pt\" xmlns=\"http://www.w3.org/2000/svg\" xmlns:xlink=\"http://www.w3.org/1999/xlink\">\r\n <defs>\r\n  <style type=\"text/css\">\r\n*{stroke-linecap:butt;stroke-linejoin:round;}\r\n  </style>\r\n </defs>\r\n <g id=\"figure_1\">\r\n  <g id=\"patch_1\">\r\n   <path d=\"M 0 357.238125 \r\nL 877.4875 357.238125 \r\nL 877.4875 0 \r\nL 0 0 \r\nz\r\n\" style=\"fill:none;\"/>\r\n  </g>\r\n  <g id=\"axes_1\">\r\n   <g id=\"patch_2\">\r\n    <path d=\"M 33.2875 333.36 \r\nL 870.2875 333.36 \r\nL 870.2875 7.2 \r\nL 33.2875 7.2 \r\nz\r\n\" style=\"fill:#ffffff;\"/>\r\n   </g>\r\n   <g id=\"patch_3\">\r\n    <path clip-path=\"url(#pf457d03f1a)\" d=\"M 33.2875 333.36 \r\nL 42.7456 333.36 \r\nL 42.7456 328.821596 \r\nL 33.2875 328.821596 \r\nz\r\n\" style=\"fill:#1f77b4;\"/>\r\n   </g>\r\n   <g id=\"patch_4\">\r\n    <path clip-path=\"url(#pf457d03f1a)\" d=\"M 42.7456 333.36 \r\nL 52.2037 333.36 \r\nL 52.2037 328.317328 \r\nL 42.7456 328.317328 \r\nz\r\n\" style=\"fill:#1f77b4;\"/>\r\n   </g>\r\n   <g id=\"patch_5\">\r\n    <path clip-path=\"url(#pf457d03f1a)\" d=\"M 52.2037 333.36 \r\nL 61.6618 333.36 \r\nL 61.6618 328.317328 \r\nL 52.2037 328.317328 \r\nz\r\n\" style=\"fill:#1f77b4;\"/>\r\n   </g>\r\n   <g id=\"patch_6\">\r\n    <path clip-path=\"url(#pf457d03f1a)\" d=\"M 61.6618 333.36 \r\nL 71.1199 333.36 \r\nL 71.1199 326.30026 \r\nL 61.6618 326.30026 \r\nz\r\n\" style=\"fill:#1f77b4;\"/>\r\n   </g>\r\n   <g id=\"patch_7\">\r\n    <path clip-path=\"url(#pf457d03f1a)\" d=\"M 71.1199 333.36 \r\nL 80.578 333.36 \r\nL 80.578 327.308794 \r\nL 71.1199 327.308794 \r\nz\r\n\" style=\"fill:#1f77b4;\"/>\r\n   </g>\r\n   <g id=\"patch_8\">\r\n    <path clip-path=\"url(#pf457d03f1a)\" d=\"M 80.578 333.36 \r\nL 90.0361 333.36 \r\nL 90.0361 324.787458 \r\nL 80.578 324.787458 \r\nz\r\n\" style=\"fill:#1f77b4;\"/>\r\n   </g>\r\n   <g id=\"patch_9\">\r\n    <path clip-path=\"url(#pf457d03f1a)\" d=\"M 90.0361 333.36 \r\nL 99.4942 333.36 \r\nL 99.4942 326.30026 \r\nL 90.0361 326.30026 \r\nz\r\n\" style=\"fill:#1f77b4;\"/>\r\n   </g>\r\n   <g id=\"patch_10\">\r\n    <path clip-path=\"url(#pf457d03f1a)\" d=\"M 99.4942 333.36 \r\nL 108.9523 333.36 \r\nL 108.9523 315.710649 \r\nL 99.4942 315.710649 \r\nz\r\n\" style=\"fill:#1f77b4;\"/>\r\n   </g>\r\n   <g id=\"patch_11\">\r\n    <path clip-path=\"url(#pf457d03f1a)\" d=\"M 108.9523 333.36 \r\nL 118.4104 333.36 \r\nL 118.4104 325.291725 \r\nL 108.9523 325.291725 \r\nz\r\n\" style=\"fill:#1f77b4;\"/>\r\n   </g>\r\n   <g id=\"patch_12\">\r\n    <path clip-path=\"url(#pf457d03f1a)\" d=\"M 118.4104 333.36 \r\nL 127.8685 333.36 \r\nL 127.8685 327.308794 \r\nL 118.4104 327.308794 \r\nz\r\n\" style=\"fill:#1f77b4;\"/>\r\n   </g>\r\n   <g id=\"patch_13\">\r\n    <path clip-path=\"url(#pf457d03f1a)\" d=\"M 127.8685 333.36 \r\nL 137.3266 333.36 \r\nL 137.3266 326.804527 \r\nL 127.8685 326.804527 \r\nz\r\n\" style=\"fill:#1f77b4;\"/>\r\n   </g>\r\n   <g id=\"patch_14\">\r\n    <path clip-path=\"url(#pf457d03f1a)\" d=\"M 137.3266 333.36 \r\nL 146.7847 333.36 \r\nL 146.7847 329.325863 \r\nL 137.3266 329.325863 \r\nz\r\n\" style=\"fill:#1f77b4;\"/>\r\n   </g>\r\n   <g id=\"patch_15\">\r\n    <path clip-path=\"url(#pf457d03f1a)\" d=\"M 146.7847 333.36 \r\nL 156.2428 333.36 \r\nL 156.2428 329.325863 \r\nL 146.7847 329.325863 \r\nz\r\n\" style=\"fill:#1f77b4;\"/>\r\n   </g>\r\n   <g id=\"patch_16\">\r\n    <path clip-path=\"url(#pf457d03f1a)\" d=\"M 156.2428 333.36 \r\nL 165.7009 333.36 \r\nL 165.7009 329.325863 \r\nL 156.2428 329.325863 \r\nz\r\n\" style=\"fill:#1f77b4;\"/>\r\n   </g>\r\n   <g id=\"patch_17\">\r\n    <path clip-path=\"url(#pf457d03f1a)\" d=\"M 165.7009 333.36 \r\nL 175.159 333.36 \r\nL 175.159 329.83013 \r\nL 165.7009 329.83013 \r\nz\r\n\" style=\"fill:#1f77b4;\"/>\r\n   </g>\r\n   <g id=\"patch_18\">\r\n    <path clip-path=\"url(#pf457d03f1a)\" d=\"M 175.159 333.36 \r\nL 184.6171 333.36 \r\nL 184.6171 316.719184 \r\nL 175.159 316.719184 \r\nz\r\n\" style=\"fill:#1f77b4;\"/>\r\n   </g>\r\n   <g id=\"patch_19\">\r\n    <path clip-path=\"url(#pf457d03f1a)\" d=\"M 184.6171 333.36 \r\nL 194.0752 333.36 \r\nL 194.0752 326.30026 \r\nL 184.6171 326.30026 \r\nz\r\n\" style=\"fill:#1f77b4;\"/>\r\n   </g>\r\n   <g id=\"patch_20\">\r\n    <path clip-path=\"url(#pf457d03f1a)\" d=\"M 194.0752 333.36 \r\nL 203.5333 333.36 \r\nL 203.5333 326.804527 \r\nL 194.0752 326.804527 \r\nz\r\n\" style=\"fill:#1f77b4;\"/>\r\n   </g>\r\n   <g id=\"patch_21\">\r\n    <path clip-path=\"url(#pf457d03f1a)\" d=\"M 203.5333 333.36 \r\nL 212.9914 333.36 \r\nL 212.9914 320.753321 \r\nL 203.5333 320.753321 \r\nz\r\n\" style=\"fill:#1f77b4;\"/>\r\n   </g>\r\n   <g id=\"patch_22\">\r\n    <path clip-path=\"url(#pf457d03f1a)\" d=\"M 212.9914 333.36 \r\nL 222.4495 333.36 \r\nL 222.4495 324.283191 \r\nL 212.9914 324.283191 \r\nz\r\n\" style=\"fill:#1f77b4;\"/>\r\n   </g>\r\n   <g id=\"patch_23\">\r\n    <path clip-path=\"url(#pf457d03f1a)\" d=\"M 222.4495 333.36 \r\nL 231.9076 333.36 \r\nL 231.9076 324.283191 \r\nL 222.4495 324.283191 \r\nz\r\n\" style=\"fill:#1f77b4;\"/>\r\n   </g>\r\n   <g id=\"patch_24\">\r\n    <path clip-path=\"url(#pf457d03f1a)\" d=\"M 231.9076 333.36 \r\nL 241.3657 333.36 \r\nL 241.3657 323.274657 \r\nL 231.9076 323.274657 \r\nz\r\n\" style=\"fill:#1f77b4;\"/>\r\n   </g>\r\n   <g id=\"patch_25\">\r\n    <path clip-path=\"url(#pf457d03f1a)\" d=\"M 241.3657 333.36 \r\nL 250.8238 333.36 \r\nL 250.8238 319.744787 \r\nL 241.3657 319.744787 \r\nz\r\n\" style=\"fill:#1f77b4;\"/>\r\n   </g>\r\n   <g id=\"patch_26\">\r\n    <path clip-path=\"url(#pf457d03f1a)\" d=\"M 250.8238 333.36 \r\nL 260.2819 333.36 \r\nL 260.2819 304.616772 \r\nL 250.8238 304.616772 \r\nz\r\n\" style=\"fill:#1f77b4;\"/>\r\n   </g>\r\n   <g id=\"patch_27\">\r\n    <path clip-path=\"url(#pf457d03f1a)\" d=\"M 260.2819 333.36 \r\nL 269.74 333.36 \r\nL 269.74 322.266122 \r\nL 260.2819 322.266122 \r\nz\r\n\" style=\"fill:#1f77b4;\"/>\r\n   </g>\r\n   <g id=\"patch_28\">\r\n    <path clip-path=\"url(#pf457d03f1a)\" d=\"M 269.74 333.36 \r\nL 279.1981 333.36 \r\nL 279.1981 319.240519 \r\nL 269.74 319.240519 \r\nz\r\n\" style=\"fill:#1f77b4;\"/>\r\n   </g>\r\n   <g id=\"patch_29\">\r\n    <path clip-path=\"url(#pf457d03f1a)\" d=\"M 279.1981 333.36 \r\nL 288.6562 333.36 \r\nL 288.6562 318.231985 \r\nL 279.1981 318.231985 \r\nz\r\n\" style=\"fill:#1f77b4;\"/>\r\n   </g>\r\n   <g id=\"patch_30\">\r\n    <path clip-path=\"url(#pf457d03f1a)\" d=\"M 288.6562 333.36 \r\nL 298.1143 333.36 \r\nL 298.1143 314.197848 \r\nL 288.6562 314.197848 \r\nz\r\n\" style=\"fill:#1f77b4;\"/>\r\n   </g>\r\n   <g id=\"patch_31\">\r\n    <path clip-path=\"url(#pf457d03f1a)\" d=\"M 298.1143 333.36 \r\nL 307.5724 333.36 \r\nL 307.5724 316.719184 \r\nL 298.1143 316.719184 \r\nz\r\n\" style=\"fill:#1f77b4;\"/>\r\n   </g>\r\n   <g id=\"patch_32\">\r\n    <path clip-path=\"url(#pf457d03f1a)\" d=\"M 307.5724 333.36 \r\nL 317.0305 333.36 \r\nL 317.0305 324.787458 \r\nL 307.5724 324.787458 \r\nz\r\n\" style=\"fill:#1f77b4;\"/>\r\n   </g>\r\n   <g id=\"patch_33\">\r\n    <path clip-path=\"url(#pf457d03f1a)\" d=\"M 317.0305 333.36 \r\nL 326.4886 333.36 \r\nL 326.4886 315.710649 \r\nL 317.0305 315.710649 \r\nz\r\n\" style=\"fill:#1f77b4;\"/>\r\n   </g>\r\n   <g id=\"patch_34\">\r\n    <path clip-path=\"url(#pf457d03f1a)\" d=\"M 326.4886 333.36 \r\nL 335.9467 333.36 \r\nL 335.9467 319.744787 \r\nL 326.4886 319.744787 \r\nz\r\n\" style=\"fill:#1f77b4;\"/>\r\n   </g>\r\n   <g id=\"patch_35\">\r\n    <path clip-path=\"url(#pf457d03f1a)\" d=\"M 335.9467 333.36 \r\nL 345.4048 333.36 \r\nL 345.4048 318.231985 \r\nL 335.9467 318.231985 \r\nz\r\n\" style=\"fill:#1f77b4;\"/>\r\n   </g>\r\n   <g id=\"patch_36\">\r\n    <path clip-path=\"url(#pf457d03f1a)\" d=\"M 345.4048 333.36 \r\nL 354.8629 333.36 \r\nL 354.8629 320.753321 \r\nL 345.4048 320.753321 \r\nz\r\n\" style=\"fill:#1f77b4;\"/>\r\n   </g>\r\n   <g id=\"patch_37\">\r\n    <path clip-path=\"url(#pf457d03f1a)\" d=\"M 354.8629 333.36 \r\nL 364.321 333.36 \r\nL 364.321 319.744787 \r\nL 354.8629 319.744787 \r\nz\r\n\" style=\"fill:#1f77b4;\"/>\r\n   </g>\r\n   <g id=\"patch_38\">\r\n    <path clip-path=\"url(#pf457d03f1a)\" d=\"M 364.321 333.36 \r\nL 373.7791 333.36 \r\nL 373.7791 320.753321 \r\nL 364.321 320.753321 \r\nz\r\n\" style=\"fill:#1f77b4;\"/>\r\n   </g>\r\n   <g id=\"patch_39\">\r\n    <path clip-path=\"url(#pf457d03f1a)\" d=\"M 373.7791 333.36 \r\nL 383.2372 333.36 \r\nL 383.2372 307.642375 \r\nL 373.7791 307.642375 \r\nz\r\n\" style=\"fill:#1f77b4;\"/>\r\n   </g>\r\n   <g id=\"patch_40\">\r\n    <path clip-path=\"url(#pf457d03f1a)\" d=\"M 383.2372 333.36 \r\nL 392.6953 333.36 \r\nL 392.6953 301.591169 \r\nL 383.2372 301.591169 \r\nz\r\n\" style=\"fill:#1f77b4;\"/>\r\n   </g>\r\n   <g id=\"patch_41\">\r\n    <path clip-path=\"url(#pf457d03f1a)\" d=\"M 392.6953 333.36 \r\nL 402.1534 333.36 \r\nL 402.1534 275.873544 \r\nL 392.6953 275.873544 \r\nz\r\n\" style=\"fill:#1f77b4;\"/>\r\n   </g>\r\n   <g id=\"patch_42\">\r\n    <path clip-path=\"url(#pf457d03f1a)\" d=\"M 402.1534 333.36 \r\nL 411.6115 333.36 \r\nL 411.6115 306.63384 \r\nL 402.1534 306.63384 \r\nz\r\n\" style=\"fill:#1f77b4;\"/>\r\n   </g>\r\n   <g id=\"patch_43\">\r\n    <path clip-path=\"url(#pf457d03f1a)\" d=\"M 411.6115 333.36 \r\nL 421.0696 333.36 \r\nL 421.0696 286.967421 \r\nL 411.6115 286.967421 \r\nz\r\n\" style=\"fill:#1f77b4;\"/>\r\n   </g>\r\n   <g id=\"patch_44\">\r\n    <path clip-path=\"url(#pf457d03f1a)\" d=\"M 421.0696 333.36 \r\nL 430.5277 333.36 \r\nL 430.5277 297.557032 \r\nL 421.0696 297.557032 \r\nz\r\n\" style=\"fill:#1f77b4;\"/>\r\n   </g>\r\n   <g id=\"patch_45\">\r\n    <path clip-path=\"url(#pf457d03f1a)\" d=\"M 430.5277 333.36 \r\nL 439.9858 333.36 \r\nL 439.9858 308.146642 \r\nL 430.5277 308.146642 \r\nz\r\n\" style=\"fill:#1f77b4;\"/>\r\n   </g>\r\n   <g id=\"patch_46\">\r\n    <path clip-path=\"url(#pf457d03f1a)\" d=\"M 439.9858 333.36 \r\nL 449.4439 333.36 \r\nL 449.4439 291.505826 \r\nL 439.9858 291.505826 \r\nz\r\n\" style=\"fill:#1f77b4;\"/>\r\n   </g>\r\n   <g id=\"patch_47\">\r\n    <path clip-path=\"url(#pf457d03f1a)\" d=\"M 449.4439 333.36 \r\nL 458.902 333.36 \r\nL 458.902 271.335139 \r\nL 449.4439 271.335139 \r\nz\r\n\" style=\"fill:#1f77b4;\"/>\r\n   </g>\r\n   <g id=\"patch_48\">\r\n    <path clip-path=\"url(#pf457d03f1a)\" d=\"M 458.902 333.36 \r\nL 468.3601 333.36 \r\nL 468.3601 273.856475 \r\nL 458.902 273.856475 \r\nz\r\n\" style=\"fill:#1f77b4;\"/>\r\n   </g>\r\n   <g id=\"patch_49\">\r\n    <path clip-path=\"url(#pf457d03f1a)\" d=\"M 468.3601 333.36 \r\nL 477.8182 333.36 \r\nL 477.8182 217.378553 \r\nL 468.3601 217.378553 \r\nz\r\n\" style=\"fill:#1f77b4;\"/>\r\n   </g>\r\n   <g id=\"patch_50\">\r\n    <path clip-path=\"url(#pf457d03f1a)\" d=\"M 477.8182 333.36 \r\nL 487.2763 333.36 \r\nL 487.2763 269.822338 \r\nL 477.8182 269.822338 \r\nz\r\n\" style=\"fill:#1f77b4;\"/>\r\n   </g>\r\n   <g id=\"patch_51\">\r\n    <path clip-path=\"url(#pf457d03f1a)\" d=\"M 487.2763 333.36 \r\nL 496.7344 333.36 \r\nL 496.7344 230.489499 \r\nL 487.2763 230.489499 \r\nz\r\n\" style=\"fill:#1f77b4;\"/>\r\n   </g>\r\n   <g id=\"patch_52\">\r\n    <path clip-path=\"url(#pf457d03f1a)\" d=\"M 496.7344 333.36 \r\nL 506.1925 333.36 \r\nL 506.1925 220.908423 \r\nL 496.7344 220.908423 \r\nz\r\n\" style=\"fill:#1f77b4;\"/>\r\n   </g>\r\n   <g id=\"patch_53\">\r\n    <path clip-path=\"url(#pf457d03f1a)\" d=\"M 506.1925 333.36 \r\nL 515.6506 333.36 \r\nL 515.6506 222.421224 \r\nL 506.1925 222.421224 \r\nz\r\n\" style=\"fill:#1f77b4;\"/>\r\n   </g>\r\n   <g id=\"patch_54\">\r\n    <path clip-path=\"url(#pf457d03f1a)\" d=\"M 515.6506 333.36 \r\nL 525.1087 333.36 \r\nL 525.1087 219.395622 \r\nL 515.6506 219.395622 \r\nz\r\n\" style=\"fill:#1f77b4;\"/>\r\n   </g>\r\n   <g id=\"patch_55\">\r\n    <path clip-path=\"url(#pf457d03f1a)\" d=\"M 525.1087 333.36 \r\nL 534.5668 333.36 \r\nL 534.5668 221.916957 \r\nL 525.1087 221.916957 \r\nz\r\n\" style=\"fill:#1f77b4;\"/>\r\n   </g>\r\n   <g id=\"patch_56\">\r\n    <path clip-path=\"url(#pf457d03f1a)\" d=\"M 534.5668 333.36 \r\nL 544.0249 333.36 \r\nL 544.0249 22.731429 \r\nL 534.5668 22.731429 \r\nz\r\n\" style=\"fill:#1f77b4;\"/>\r\n   </g>\r\n   <g id=\"patch_57\">\r\n    <path clip-path=\"url(#pf457d03f1a)\" d=\"M 544.0249 333.36 \r\nL 553.483 333.36 \r\nL 553.483 219.899889 \r\nL 544.0249 219.899889 \r\nz\r\n\" style=\"fill:#1f77b4;\"/>\r\n   </g>\r\n   <g id=\"patch_58\">\r\n    <path clip-path=\"url(#pf457d03f1a)\" d=\"M 553.483 333.36 \r\nL 562.9411 333.36 \r\nL 562.9411 167.960371 \r\nL 553.483 167.960371 \r\nz\r\n\" style=\"fill:#1f77b4;\"/>\r\n   </g>\r\n   <g id=\"patch_59\">\r\n    <path clip-path=\"url(#pf457d03f1a)\" d=\"M 562.9411 333.36 \r\nL 572.3992 333.36 \r\nL 572.3992 177.541447 \r\nL 562.9411 177.541447 \r\nz\r\n\" style=\"fill:#1f77b4;\"/>\r\n   </g>\r\n   <g id=\"patch_60\">\r\n    <path clip-path=\"url(#pf457d03f1a)\" d=\"M 572.3992 333.36 \r\nL 581.8573 333.36 \r\nL 581.8573 178.045714 \r\nL 572.3992 178.045714 \r\nz\r\n\" style=\"fill:#1f77b4;\"/>\r\n   </g>\r\n   <g id=\"patch_61\">\r\n    <path clip-path=\"url(#pf457d03f1a)\" d=\"M 581.8573 333.36 \r\nL 591.3154 333.36 \r\nL 591.3154 174.011577 \r\nL 581.8573 174.011577 \r\nz\r\n\" style=\"fill:#1f77b4;\"/>\r\n   </g>\r\n   <g id=\"patch_62\">\r\n    <path clip-path=\"url(#pf457d03f1a)\" d=\"M 591.3154 333.36 \r\nL 600.7735 333.36 \r\nL 600.7735 188.635325 \r\nL 591.3154 188.635325 \r\nz\r\n\" style=\"fill:#1f77b4;\"/>\r\n   </g>\r\n   <g id=\"patch_63\">\r\n    <path clip-path=\"url(#pf457d03f1a)\" d=\"M 600.7735 333.36 \r\nL 610.2316 333.36 \r\nL 610.2316 176.532913 \r\nL 600.7735 176.532913 \r\nz\r\n\" style=\"fill:#1f77b4;\"/>\r\n   </g>\r\n   <g id=\"patch_64\">\r\n    <path clip-path=\"url(#pf457d03f1a)\" d=\"M 610.2316 333.36 \r\nL 619.6897 333.36 \r\nL 619.6897 74.166679 \r\nL 610.2316 74.166679 \r\nz\r\n\" style=\"fill:#1f77b4;\"/>\r\n   </g>\r\n   <g id=\"patch_65\">\r\n    <path clip-path=\"url(#pf457d03f1a)\" d=\"M 619.6897 333.36 \r\nL 629.1478 333.36 \r\nL 629.1478 209.310278 \r\nL 619.6897 209.310278 \r\nz\r\n\" style=\"fill:#1f77b4;\"/>\r\n   </g>\r\n   <g id=\"patch_66\">\r\n    <path clip-path=\"url(#pf457d03f1a)\" d=\"M 629.1478 333.36 \r\nL 638.6059 333.36 \r\nL 638.6059 226.959629 \r\nL 629.1478 226.959629 \r\nz\r\n\" style=\"fill:#1f77b4;\"/>\r\n   </g>\r\n   <g id=\"patch_67\">\r\n    <path clip-path=\"url(#pf457d03f1a)\" d=\"M 638.6059 333.36 \r\nL 648.064 333.36 \r\nL 648.064 231.498033 \r\nL 638.6059 231.498033 \r\nz\r\n\" style=\"fill:#1f77b4;\"/>\r\n   </g>\r\n   <g id=\"patch_68\">\r\n    <path clip-path=\"url(#pf457d03f1a)\" d=\"M 648.064 333.36 \r\nL 657.5221 333.36 \r\nL 657.5221 225.951095 \r\nL 648.064 225.951095 \r\nz\r\n\" style=\"fill:#1f77b4;\"/>\r\n   </g>\r\n   <g id=\"patch_69\">\r\n    <path clip-path=\"url(#pf457d03f1a)\" d=\"M 657.5221 333.36 \r\nL 666.9802 333.36 \r\nL 666.9802 209.310278 \r\nL 657.5221 209.310278 \r\nz\r\n\" style=\"fill:#1f77b4;\"/>\r\n   </g>\r\n   <g id=\"patch_70\">\r\n    <path clip-path=\"url(#pf457d03f1a)\" d=\"M 666.9802 333.36 \r\nL 676.4383 333.36 \r\nL 676.4383 194.686531 \r\nL 666.9802 194.686531 \r\nz\r\n\" style=\"fill:#1f77b4;\"/>\r\n   </g>\r\n   <g id=\"patch_71\">\r\n    <path clip-path=\"url(#pf457d03f1a)\" d=\"M 676.4383 333.36 \r\nL 685.8964 333.36 \r\nL 685.8964 199.729202 \r\nL 676.4383 199.729202 \r\nz\r\n\" style=\"fill:#1f77b4;\"/>\r\n   </g>\r\n   <g id=\"patch_72\">\r\n    <path clip-path=\"url(#pf457d03f1a)\" d=\"M 685.8964 333.36 \r\nL 695.3545 333.36 \r\nL 695.3545 84.756289 \r\nL 685.8964 84.756289 \r\nz\r\n\" style=\"fill:#1f77b4;\"/>\r\n   </g>\r\n   <g id=\"patch_73\">\r\n    <path clip-path=\"url(#pf457d03f1a)\" d=\"M 695.3545 333.36 \r\nL 704.8126 333.36 \r\nL 704.8126 203.76334 \r\nL 695.3545 203.76334 \r\nz\r\n\" style=\"fill:#1f77b4;\"/>\r\n   </g>\r\n   <g id=\"patch_74\">\r\n    <path clip-path=\"url(#pf457d03f1a)\" d=\"M 704.8126 333.36 \r\nL 714.2707 333.36 \r\nL 714.2707 198.216401 \r\nL 704.8126 198.216401 \r\nz\r\n\" style=\"fill:#1f77b4;\"/>\r\n   </g>\r\n   <g id=\"patch_75\">\r\n    <path clip-path=\"url(#pf457d03f1a)\" d=\"M 714.2707 333.36 \r\nL 723.7288 333.36 \r\nL 723.7288 247.634583 \r\nL 714.2707 247.634583 \r\nz\r\n\" style=\"fill:#1f77b4;\"/>\r\n   </g>\r\n   <g id=\"patch_76\">\r\n    <path clip-path=\"url(#pf457d03f1a)\" d=\"M 723.7288 333.36 \r\nL 733.1869 333.36 \r\nL 733.1869 234.523636 \r\nL 723.7288 234.523636 \r\nz\r\n\" style=\"fill:#1f77b4;\"/>\r\n   </g>\r\n   <g id=\"patch_77\">\r\n    <path clip-path=\"url(#pf457d03f1a)\" d=\"M 733.1869 333.36 \r\nL 742.645 333.36 \r\nL 742.645 234.019369 \r\nL 733.1869 234.019369 \r\nz\r\n\" style=\"fill:#1f77b4;\"/>\r\n   </g>\r\n   <g id=\"patch_78\">\r\n    <path clip-path=\"url(#pf457d03f1a)\" d=\"M 742.645 333.36 \r\nL 752.1031 333.36 \r\nL 752.1031 262.25833 \r\nL 742.645 262.25833 \r\nz\r\n\" style=\"fill:#1f77b4;\"/>\r\n   </g>\r\n   <g id=\"patch_79\">\r\n    <path clip-path=\"url(#pf457d03f1a)\" d=\"M 752.1031 333.36 \r\nL 761.5612 333.36 \r\nL 761.5612 242.087644 \r\nL 752.1031 242.087644 \r\nz\r\n\" style=\"fill:#1f77b4;\"/>\r\n   </g>\r\n   <g id=\"patch_80\">\r\n    <path clip-path=\"url(#pf457d03f1a)\" d=\"M 761.5612 333.36 \r\nL 771.0193 333.36 \r\nL 771.0193 308.146642 \r\nL 761.5612 308.146642 \r\nz\r\n\" style=\"fill:#1f77b4;\"/>\r\n   </g>\r\n   <g id=\"patch_81\">\r\n    <path clip-path=\"url(#pf457d03f1a)\" d=\"M 771.0193 333.36 \r\nL 780.4774 333.36 \r\nL 780.4774 310.667978 \r\nL 771.0193 310.667978 \r\nz\r\n\" style=\"fill:#1f77b4;\"/>\r\n   </g>\r\n   <g id=\"patch_82\">\r\n    <path clip-path=\"url(#pf457d03f1a)\" d=\"M 780.4774 333.36 \r\nL 789.9355 333.36 \r\nL 789.9355 317.727718 \r\nL 780.4774 317.727718 \r\nz\r\n\" style=\"fill:#1f77b4;\"/>\r\n   </g>\r\n   <g id=\"patch_83\">\r\n    <path clip-path=\"url(#pf457d03f1a)\" d=\"M 789.9355 333.36 \r\nL 799.3936 333.36 \r\nL 799.3936 320.249054 \r\nL 789.9355 320.249054 \r\nz\r\n\" style=\"fill:#1f77b4;\"/>\r\n   </g>\r\n   <g id=\"patch_84\">\r\n    <path clip-path=\"url(#pf457d03f1a)\" d=\"M 799.3936 333.36 \r\nL 808.8517 333.36 \r\nL 808.8517 325.291725 \r\nL 799.3936 325.291725 \r\nz\r\n\" style=\"fill:#1f77b4;\"/>\r\n   </g>\r\n   <g id=\"patch_85\">\r\n    <path clip-path=\"url(#pf457d03f1a)\" d=\"M 808.8517 333.36 \r\nL 818.3098 333.36 \r\nL 818.3098 326.30026 \r\nL 808.8517 326.30026 \r\nz\r\n\" style=\"fill:#1f77b4;\"/>\r\n   </g>\r\n   <g id=\"patch_86\">\r\n    <path clip-path=\"url(#pf457d03f1a)\" d=\"M 818.3098 333.36 \r\nL 827.7679 333.36 \r\nL 827.7679 330.838664 \r\nL 818.3098 330.838664 \r\nz\r\n\" style=\"fill:#1f77b4;\"/>\r\n   </g>\r\n   <g id=\"patch_87\">\r\n    <path clip-path=\"url(#pf457d03f1a)\" d=\"M 827.7679 333.36 \r\nL 837.226 333.36 \r\nL 837.226 327.813061 \r\nL 827.7679 327.813061 \r\nz\r\n\" style=\"fill:#1f77b4;\"/>\r\n   </g>\r\n   <g id=\"patch_88\">\r\n    <path clip-path=\"url(#pf457d03f1a)\" d=\"M 837.226 333.36 \r\nL 846.6841 333.36 \r\nL 846.6841 332.855733 \r\nL 837.226 332.855733 \r\nz\r\n\" style=\"fill:#1f77b4;\"/>\r\n   </g>\r\n   <g id=\"patch_89\">\r\n    <path clip-path=\"url(#pf457d03f1a)\" d=\"M 846.6841 333.36 \r\nL 856.1422 333.36 \r\nL 856.1422 333.36 \r\nL 846.6841 333.36 \r\nz\r\n\" style=\"fill:#1f77b4;\"/>\r\n   </g>\r\n   <g id=\"patch_90\">\r\n    <path clip-path=\"url(#pf457d03f1a)\" d=\"M 856.1422 333.36 \r\nL 865.6003 333.36 \r\nL 865.6003 333.36 \r\nL 856.1422 333.36 \r\nz\r\n\" style=\"fill:#1f77b4;\"/>\r\n   </g>\r\n   <g id=\"patch_91\">\r\n    <path clip-path=\"url(#pf457d03f1a)\" d=\"M 865.6003 333.36 \r\nL 875.0584 333.36 \r\nL 875.0584 333.36 \r\nL 865.6003 333.36 \r\nz\r\n\" style=\"fill:#1f77b4;\"/>\r\n   </g>\r\n   <g id=\"patch_92\">\r\n    <path clip-path=\"url(#pf457d03f1a)\" d=\"M 875.0584 333.36 \r\nL 884.5165 333.36 \r\nL 884.5165 333.36 \r\nL 875.0584 333.36 \r\nz\r\n\" style=\"fill:#1f77b4;\"/>\r\n   </g>\r\n   <g id=\"patch_93\">\r\n    <path clip-path=\"url(#pf457d03f1a)\" d=\"M 884.5165 333.36 \r\nL 893.9746 333.36 \r\nL 893.9746 333.36 \r\nL 884.5165 333.36 \r\nz\r\n\" style=\"fill:#1f77b4;\"/>\r\n   </g>\r\n   <g id=\"patch_94\">\r\n    <path clip-path=\"url(#pf457d03f1a)\" d=\"M 893.9746 333.36 \r\nL 903.4327 333.36 \r\nL 903.4327 333.36 \r\nL 893.9746 333.36 \r\nz\r\n\" style=\"fill:#1f77b4;\"/>\r\n   </g>\r\n   <g id=\"patch_95\">\r\n    <path clip-path=\"url(#pf457d03f1a)\" d=\"M 903.4327 333.36 \r\nL 912.8908 333.36 \r\nL 912.8908 333.36 \r\nL 903.4327 333.36 \r\nz\r\n\" style=\"fill:#1f77b4;\"/>\r\n   </g>\r\n   <g id=\"patch_96\">\r\n    <path clip-path=\"url(#pf457d03f1a)\" d=\"M 912.8908 333.36 \r\nL 922.3489 333.36 \r\nL 922.3489 333.36 \r\nL 912.8908 333.36 \r\nz\r\n\" style=\"fill:#1f77b4;\"/>\r\n   </g>\r\n   <g id=\"patch_97\">\r\n    <path clip-path=\"url(#pf457d03f1a)\" d=\"M 922.3489 333.36 \r\nL 931.807 333.36 \r\nL 931.807 333.36 \r\nL 922.3489 333.36 \r\nz\r\n\" style=\"fill:#1f77b4;\"/>\r\n   </g>\r\n   <g id=\"patch_98\">\r\n    <path clip-path=\"url(#pf457d03f1a)\" d=\"M 931.807 333.36 \r\nL 941.2651 333.36 \r\nL 941.2651 333.36 \r\nL 931.807 333.36 \r\nz\r\n\" style=\"fill:#1f77b4;\"/>\r\n   </g>\r\n   <g id=\"patch_99\">\r\n    <path clip-path=\"url(#pf457d03f1a)\" d=\"M 941.2651 333.36 \r\nL 950.7232 333.36 \r\nL 950.7232 333.36 \r\nL 941.2651 333.36 \r\nz\r\n\" style=\"fill:#1f77b4;\"/>\r\n   </g>\r\n   <g id=\"patch_100\">\r\n    <path clip-path=\"url(#pf457d03f1a)\" d=\"M 950.7232 333.36 \r\nL 960.1813 333.36 \r\nL 960.1813 333.36 \r\nL 950.7232 333.36 \r\nz\r\n\" style=\"fill:#1f77b4;\"/>\r\n   </g>\r\n   <g id=\"patch_101\">\r\n    <path clip-path=\"url(#pf457d03f1a)\" d=\"M 960.1813 333.36 \r\nL 969.6394 333.36 \r\nL 969.6394 333.36 \r\nL 960.1813 333.36 \r\nz\r\n\" style=\"fill:#1f77b4;\"/>\r\n   </g>\r\n   <g id=\"patch_102\">\r\n    <path clip-path=\"url(#pf457d03f1a)\" d=\"M 969.6394 333.36 \r\nL 979.0975 333.36 \r\nL 979.0975 332.855733 \r\nL 969.6394 332.855733 \r\nz\r\n\" style=\"fill:#1f77b4;\"/>\r\n   </g>\r\n   <g id=\"matplotlib.axis_1\">\r\n    <g id=\"xtick_1\">\r\n     <g id=\"line2d_1\">\r\n      <defs>\r\n       <path d=\"M 0 0 \r\nL 0 3.5 \r\n\" id=\"m1322a0a2a2\" style=\"stroke:#000000;stroke-width:0.8;\"/>\r\n      </defs>\r\n      <g>\r\n       <use style=\"stroke:#000000;stroke-width:0.8;\" x=\"33.2875\" xlink:href=\"#m1322a0a2a2\" y=\"333.36\"/>\r\n      </g>\r\n     </g>\r\n     <g id=\"text_1\">\r\n      <!-- 0 -->\r\n      <defs>\r\n       <path d=\"M 31.78125 66.40625 \r\nQ 24.171875 66.40625 20.328125 58.90625 \r\nQ 16.5 51.421875 16.5 36.375 \r\nQ 16.5 21.390625 20.328125 13.890625 \r\nQ 24.171875 6.390625 31.78125 6.390625 \r\nQ 39.453125 6.390625 43.28125 13.890625 \r\nQ 47.125 21.390625 47.125 36.375 \r\nQ 47.125 51.421875 43.28125 58.90625 \r\nQ 39.453125 66.40625 31.78125 66.40625 \r\nz\r\nM 31.78125 74.21875 \r\nQ 44.046875 74.21875 50.515625 64.515625 \r\nQ 56.984375 54.828125 56.984375 36.375 \r\nQ 56.984375 17.96875 50.515625 8.265625 \r\nQ 44.046875 -1.421875 31.78125 -1.421875 \r\nQ 19.53125 -1.421875 13.0625 8.265625 \r\nQ 6.59375 17.96875 6.59375 36.375 \r\nQ 6.59375 54.828125 13.0625 64.515625 \r\nQ 19.53125 74.21875 31.78125 74.21875 \r\nz\r\n\" id=\"DejaVuSans-48\"/>\r\n      </defs>\r\n      <g transform=\"translate(30.10625 347.958438)scale(0.1 -0.1)\">\r\n       <use xlink:href=\"#DejaVuSans-48\"/>\r\n      </g>\r\n     </g>\r\n    </g>\r\n    <g id=\"xtick_2\">\r\n     <g id=\"line2d_2\">\r\n      <g>\r\n       <use style=\"stroke:#000000;stroke-width:0.8;\" x=\"116.9875\" xlink:href=\"#m1322a0a2a2\" y=\"333.36\"/>\r\n      </g>\r\n     </g>\r\n     <g id=\"text_2\">\r\n      <!-- 10 -->\r\n      <defs>\r\n       <path d=\"M 12.40625 8.296875 \r\nL 28.515625 8.296875 \r\nL 28.515625 63.921875 \r\nL 10.984375 60.40625 \r\nL 10.984375 69.390625 \r\nL 28.421875 72.90625 \r\nL 38.28125 72.90625 \r\nL 38.28125 8.296875 \r\nL 54.390625 8.296875 \r\nL 54.390625 0 \r\nL 12.40625 0 \r\nz\r\n\" id=\"DejaVuSans-49\"/>\r\n      </defs>\r\n      <g transform=\"translate(110.625 347.958438)scale(0.1 -0.1)\">\r\n       <use xlink:href=\"#DejaVuSans-49\"/>\r\n       <use x=\"63.623047\" xlink:href=\"#DejaVuSans-48\"/>\r\n      </g>\r\n     </g>\r\n    </g>\r\n    <g id=\"xtick_3\">\r\n     <g id=\"line2d_3\">\r\n      <g>\r\n       <use style=\"stroke:#000000;stroke-width:0.8;\" x=\"200.6875\" xlink:href=\"#m1322a0a2a2\" y=\"333.36\"/>\r\n      </g>\r\n     </g>\r\n     <g id=\"text_3\">\r\n      <!-- 20 -->\r\n      <defs>\r\n       <path d=\"M 19.1875 8.296875 \r\nL 53.609375 8.296875 \r\nL 53.609375 0 \r\nL 7.328125 0 \r\nL 7.328125 8.296875 \r\nQ 12.9375 14.109375 22.625 23.890625 \r\nQ 32.328125 33.6875 34.8125 36.53125 \r\nQ 39.546875 41.84375 41.421875 45.53125 \r\nQ 43.3125 49.21875 43.3125 52.78125 \r\nQ 43.3125 58.59375 39.234375 62.25 \r\nQ 35.15625 65.921875 28.609375 65.921875 \r\nQ 23.96875 65.921875 18.8125 64.3125 \r\nQ 13.671875 62.703125 7.8125 59.421875 \r\nL 7.8125 69.390625 \r\nQ 13.765625 71.78125 18.9375 73 \r\nQ 24.125 74.21875 28.421875 74.21875 \r\nQ 39.75 74.21875 46.484375 68.546875 \r\nQ 53.21875 62.890625 53.21875 53.421875 \r\nQ 53.21875 48.921875 51.53125 44.890625 \r\nQ 49.859375 40.875 45.40625 35.40625 \r\nQ 44.1875 33.984375 37.640625 27.21875 \r\nQ 31.109375 20.453125 19.1875 8.296875 \r\nz\r\n\" id=\"DejaVuSans-50\"/>\r\n      </defs>\r\n      <g transform=\"translate(194.325 347.958438)scale(0.1 -0.1)\">\r\n       <use xlink:href=\"#DejaVuSans-50\"/>\r\n       <use x=\"63.623047\" xlink:href=\"#DejaVuSans-48\"/>\r\n      </g>\r\n     </g>\r\n    </g>\r\n    <g id=\"xtick_4\">\r\n     <g id=\"line2d_4\">\r\n      <g>\r\n       <use style=\"stroke:#000000;stroke-width:0.8;\" x=\"284.3875\" xlink:href=\"#m1322a0a2a2\" y=\"333.36\"/>\r\n      </g>\r\n     </g>\r\n     <g id=\"text_4\">\r\n      <!-- 30 -->\r\n      <defs>\r\n       <path d=\"M 40.578125 39.3125 \r\nQ 47.65625 37.796875 51.625 33 \r\nQ 55.609375 28.21875 55.609375 21.1875 \r\nQ 55.609375 10.40625 48.1875 4.484375 \r\nQ 40.765625 -1.421875 27.09375 -1.421875 \r\nQ 22.515625 -1.421875 17.65625 -0.515625 \r\nQ 12.796875 0.390625 7.625 2.203125 \r\nL 7.625 11.71875 \r\nQ 11.71875 9.328125 16.59375 8.109375 \r\nQ 21.484375 6.890625 26.8125 6.890625 \r\nQ 36.078125 6.890625 40.9375 10.546875 \r\nQ 45.796875 14.203125 45.796875 21.1875 \r\nQ 45.796875 27.640625 41.28125 31.265625 \r\nQ 36.765625 34.90625 28.71875 34.90625 \r\nL 20.21875 34.90625 \r\nL 20.21875 43.015625 \r\nL 29.109375 43.015625 \r\nQ 36.375 43.015625 40.234375 45.921875 \r\nQ 44.09375 48.828125 44.09375 54.296875 \r\nQ 44.09375 59.90625 40.109375 62.90625 \r\nQ 36.140625 65.921875 28.71875 65.921875 \r\nQ 24.65625 65.921875 20.015625 65.03125 \r\nQ 15.375 64.15625 9.8125 62.3125 \r\nL 9.8125 71.09375 \r\nQ 15.4375 72.65625 20.34375 73.4375 \r\nQ 25.25 74.21875 29.59375 74.21875 \r\nQ 40.828125 74.21875 47.359375 69.109375 \r\nQ 53.90625 64.015625 53.90625 55.328125 \r\nQ 53.90625 49.265625 50.4375 45.09375 \r\nQ 46.96875 40.921875 40.578125 39.3125 \r\nz\r\n\" id=\"DejaVuSans-51\"/>\r\n      </defs>\r\n      <g transform=\"translate(278.025 347.958438)scale(0.1 -0.1)\">\r\n       <use xlink:href=\"#DejaVuSans-51\"/>\r\n       <use x=\"63.623047\" xlink:href=\"#DejaVuSans-48\"/>\r\n      </g>\r\n     </g>\r\n    </g>\r\n    <g id=\"xtick_5\">\r\n     <g id=\"line2d_5\">\r\n      <g>\r\n       <use style=\"stroke:#000000;stroke-width:0.8;\" x=\"368.0875\" xlink:href=\"#m1322a0a2a2\" y=\"333.36\"/>\r\n      </g>\r\n     </g>\r\n     <g id=\"text_5\">\r\n      <!-- 40 -->\r\n      <defs>\r\n       <path d=\"M 37.796875 64.3125 \r\nL 12.890625 25.390625 \r\nL 37.796875 25.390625 \r\nz\r\nM 35.203125 72.90625 \r\nL 47.609375 72.90625 \r\nL 47.609375 25.390625 \r\nL 58.015625 25.390625 \r\nL 58.015625 17.1875 \r\nL 47.609375 17.1875 \r\nL 47.609375 0 \r\nL 37.796875 0 \r\nL 37.796875 17.1875 \r\nL 4.890625 17.1875 \r\nL 4.890625 26.703125 \r\nz\r\n\" id=\"DejaVuSans-52\"/>\r\n      </defs>\r\n      <g transform=\"translate(361.725 347.958438)scale(0.1 -0.1)\">\r\n       <use xlink:href=\"#DejaVuSans-52\"/>\r\n       <use x=\"63.623047\" xlink:href=\"#DejaVuSans-48\"/>\r\n      </g>\r\n     </g>\r\n    </g>\r\n    <g id=\"xtick_6\">\r\n     <g id=\"line2d_6\">\r\n      <g>\r\n       <use style=\"stroke:#000000;stroke-width:0.8;\" x=\"451.7875\" xlink:href=\"#m1322a0a2a2\" y=\"333.36\"/>\r\n      </g>\r\n     </g>\r\n     <g id=\"text_6\">\r\n      <!-- 50 -->\r\n      <defs>\r\n       <path d=\"M 10.796875 72.90625 \r\nL 49.515625 72.90625 \r\nL 49.515625 64.59375 \r\nL 19.828125 64.59375 \r\nL 19.828125 46.734375 \r\nQ 21.96875 47.46875 24.109375 47.828125 \r\nQ 26.265625 48.1875 28.421875 48.1875 \r\nQ 40.625 48.1875 47.75 41.5 \r\nQ 54.890625 34.8125 54.890625 23.390625 \r\nQ 54.890625 11.625 47.5625 5.09375 \r\nQ 40.234375 -1.421875 26.90625 -1.421875 \r\nQ 22.3125 -1.421875 17.546875 -0.640625 \r\nQ 12.796875 0.140625 7.71875 1.703125 \r\nL 7.71875 11.625 \r\nQ 12.109375 9.234375 16.796875 8.0625 \r\nQ 21.484375 6.890625 26.703125 6.890625 \r\nQ 35.15625 6.890625 40.078125 11.328125 \r\nQ 45.015625 15.765625 45.015625 23.390625 \r\nQ 45.015625 31 40.078125 35.4375 \r\nQ 35.15625 39.890625 26.703125 39.890625 \r\nQ 22.75 39.890625 18.8125 39.015625 \r\nQ 14.890625 38.140625 10.796875 36.28125 \r\nz\r\n\" id=\"DejaVuSans-53\"/>\r\n      </defs>\r\n      <g transform=\"translate(445.425 347.958438)scale(0.1 -0.1)\">\r\n       <use xlink:href=\"#DejaVuSans-53\"/>\r\n       <use x=\"63.623047\" xlink:href=\"#DejaVuSans-48\"/>\r\n      </g>\r\n     </g>\r\n    </g>\r\n    <g id=\"xtick_7\">\r\n     <g id=\"line2d_7\">\r\n      <g>\r\n       <use style=\"stroke:#000000;stroke-width:0.8;\" x=\"535.4875\" xlink:href=\"#m1322a0a2a2\" y=\"333.36\"/>\r\n      </g>\r\n     </g>\r\n     <g id=\"text_7\">\r\n      <!-- 60 -->\r\n      <defs>\r\n       <path d=\"M 33.015625 40.375 \r\nQ 26.375 40.375 22.484375 35.828125 \r\nQ 18.609375 31.296875 18.609375 23.390625 \r\nQ 18.609375 15.53125 22.484375 10.953125 \r\nQ 26.375 6.390625 33.015625 6.390625 \r\nQ 39.65625 6.390625 43.53125 10.953125 \r\nQ 47.40625 15.53125 47.40625 23.390625 \r\nQ 47.40625 31.296875 43.53125 35.828125 \r\nQ 39.65625 40.375 33.015625 40.375 \r\nz\r\nM 52.59375 71.296875 \r\nL 52.59375 62.3125 \r\nQ 48.875 64.0625 45.09375 64.984375 \r\nQ 41.3125 65.921875 37.59375 65.921875 \r\nQ 27.828125 65.921875 22.671875 59.328125 \r\nQ 17.53125 52.734375 16.796875 39.40625 \r\nQ 19.671875 43.65625 24.015625 45.921875 \r\nQ 28.375 48.1875 33.59375 48.1875 \r\nQ 44.578125 48.1875 50.953125 41.515625 \r\nQ 57.328125 34.859375 57.328125 23.390625 \r\nQ 57.328125 12.15625 50.6875 5.359375 \r\nQ 44.046875 -1.421875 33.015625 -1.421875 \r\nQ 20.359375 -1.421875 13.671875 8.265625 \r\nQ 6.984375 17.96875 6.984375 36.375 \r\nQ 6.984375 53.65625 15.1875 63.9375 \r\nQ 23.390625 74.21875 37.203125 74.21875 \r\nQ 40.921875 74.21875 44.703125 73.484375 \r\nQ 48.484375 72.75 52.59375 71.296875 \r\nz\r\n\" id=\"DejaVuSans-54\"/>\r\n      </defs>\r\n      <g transform=\"translate(529.125 347.958438)scale(0.1 -0.1)\">\r\n       <use xlink:href=\"#DejaVuSans-54\"/>\r\n       <use x=\"63.623047\" xlink:href=\"#DejaVuSans-48\"/>\r\n      </g>\r\n     </g>\r\n    </g>\r\n    <g id=\"xtick_8\">\r\n     <g id=\"line2d_8\">\r\n      <g>\r\n       <use style=\"stroke:#000000;stroke-width:0.8;\" x=\"619.1875\" xlink:href=\"#m1322a0a2a2\" y=\"333.36\"/>\r\n      </g>\r\n     </g>\r\n     <g id=\"text_8\">\r\n      <!-- 70 -->\r\n      <defs>\r\n       <path d=\"M 8.203125 72.90625 \r\nL 55.078125 72.90625 \r\nL 55.078125 68.703125 \r\nL 28.609375 0 \r\nL 18.3125 0 \r\nL 43.21875 64.59375 \r\nL 8.203125 64.59375 \r\nz\r\n\" id=\"DejaVuSans-55\"/>\r\n      </defs>\r\n      <g transform=\"translate(612.825 347.958438)scale(0.1 -0.1)\">\r\n       <use xlink:href=\"#DejaVuSans-55\"/>\r\n       <use x=\"63.623047\" xlink:href=\"#DejaVuSans-48\"/>\r\n      </g>\r\n     </g>\r\n    </g>\r\n    <g id=\"xtick_9\">\r\n     <g id=\"line2d_9\">\r\n      <g>\r\n       <use style=\"stroke:#000000;stroke-width:0.8;\" x=\"702.8875\" xlink:href=\"#m1322a0a2a2\" y=\"333.36\"/>\r\n      </g>\r\n     </g>\r\n     <g id=\"text_9\">\r\n      <!-- 80 -->\r\n      <defs>\r\n       <path d=\"M 31.78125 34.625 \r\nQ 24.75 34.625 20.71875 30.859375 \r\nQ 16.703125 27.09375 16.703125 20.515625 \r\nQ 16.703125 13.921875 20.71875 10.15625 \r\nQ 24.75 6.390625 31.78125 6.390625 \r\nQ 38.8125 6.390625 42.859375 10.171875 \r\nQ 46.921875 13.96875 46.921875 20.515625 \r\nQ 46.921875 27.09375 42.890625 30.859375 \r\nQ 38.875 34.625 31.78125 34.625 \r\nz\r\nM 21.921875 38.8125 \r\nQ 15.578125 40.375 12.03125 44.71875 \r\nQ 8.5 49.078125 8.5 55.328125 \r\nQ 8.5 64.0625 14.71875 69.140625 \r\nQ 20.953125 74.21875 31.78125 74.21875 \r\nQ 42.671875 74.21875 48.875 69.140625 \r\nQ 55.078125 64.0625 55.078125 55.328125 \r\nQ 55.078125 49.078125 51.53125 44.71875 \r\nQ 48 40.375 41.703125 38.8125 \r\nQ 48.828125 37.15625 52.796875 32.3125 \r\nQ 56.78125 27.484375 56.78125 20.515625 \r\nQ 56.78125 9.90625 50.3125 4.234375 \r\nQ 43.84375 -1.421875 31.78125 -1.421875 \r\nQ 19.734375 -1.421875 13.25 4.234375 \r\nQ 6.78125 9.90625 6.78125 20.515625 \r\nQ 6.78125 27.484375 10.78125 32.3125 \r\nQ 14.796875 37.15625 21.921875 38.8125 \r\nz\r\nM 18.3125 54.390625 \r\nQ 18.3125 48.734375 21.84375 45.5625 \r\nQ 25.390625 42.390625 31.78125 42.390625 \r\nQ 38.140625 42.390625 41.71875 45.5625 \r\nQ 45.3125 48.734375 45.3125 54.390625 \r\nQ 45.3125 60.0625 41.71875 63.234375 \r\nQ 38.140625 66.40625 31.78125 66.40625 \r\nQ 25.390625 66.40625 21.84375 63.234375 \r\nQ 18.3125 60.0625 18.3125 54.390625 \r\nz\r\n\" id=\"DejaVuSans-56\"/>\r\n      </defs>\r\n      <g transform=\"translate(696.525 347.958438)scale(0.1 -0.1)\">\r\n       <use xlink:href=\"#DejaVuSans-56\"/>\r\n       <use x=\"63.623047\" xlink:href=\"#DejaVuSans-48\"/>\r\n      </g>\r\n     </g>\r\n    </g>\r\n    <g id=\"xtick_10\">\r\n     <g id=\"line2d_10\">\r\n      <g>\r\n       <use style=\"stroke:#000000;stroke-width:0.8;\" x=\"786.5875\" xlink:href=\"#m1322a0a2a2\" y=\"333.36\"/>\r\n      </g>\r\n     </g>\r\n     <g id=\"text_10\">\r\n      <!-- 90 -->\r\n      <defs>\r\n       <path d=\"M 10.984375 1.515625 \r\nL 10.984375 10.5 \r\nQ 14.703125 8.734375 18.5 7.8125 \r\nQ 22.3125 6.890625 25.984375 6.890625 \r\nQ 35.75 6.890625 40.890625 13.453125 \r\nQ 46.046875 20.015625 46.78125 33.40625 \r\nQ 43.953125 29.203125 39.59375 26.953125 \r\nQ 35.25 24.703125 29.984375 24.703125 \r\nQ 19.046875 24.703125 12.671875 31.3125 \r\nQ 6.296875 37.9375 6.296875 49.421875 \r\nQ 6.296875 60.640625 12.9375 67.421875 \r\nQ 19.578125 74.21875 30.609375 74.21875 \r\nQ 43.265625 74.21875 49.921875 64.515625 \r\nQ 56.59375 54.828125 56.59375 36.375 \r\nQ 56.59375 19.140625 48.40625 8.859375 \r\nQ 40.234375 -1.421875 26.421875 -1.421875 \r\nQ 22.703125 -1.421875 18.890625 -0.6875 \r\nQ 15.09375 0.046875 10.984375 1.515625 \r\nz\r\nM 30.609375 32.421875 \r\nQ 37.25 32.421875 41.125 36.953125 \r\nQ 45.015625 41.5 45.015625 49.421875 \r\nQ 45.015625 57.28125 41.125 61.84375 \r\nQ 37.25 66.40625 30.609375 66.40625 \r\nQ 23.96875 66.40625 20.09375 61.84375 \r\nQ 16.21875 57.28125 16.21875 49.421875 \r\nQ 16.21875 41.5 20.09375 36.953125 \r\nQ 23.96875 32.421875 30.609375 32.421875 \r\nz\r\n\" id=\"DejaVuSans-57\"/>\r\n      </defs>\r\n      <g transform=\"translate(780.225 347.958438)scale(0.1 -0.1)\">\r\n       <use xlink:href=\"#DejaVuSans-57\"/>\r\n       <use x=\"63.623047\" xlink:href=\"#DejaVuSans-48\"/>\r\n      </g>\r\n     </g>\r\n    </g>\r\n   </g>\r\n   <g id=\"matplotlib.axis_2\">\r\n    <g id=\"ytick_1\">\r\n     <g id=\"line2d_11\">\r\n      <defs>\r\n       <path d=\"M 0 0 \r\nL -3.5 0 \r\n\" id=\"m11dd9baa83\" style=\"stroke:#000000;stroke-width:0.8;\"/>\r\n      </defs>\r\n      <g>\r\n       <use style=\"stroke:#000000;stroke-width:0.8;\" x=\"33.2875\" xlink:href=\"#m11dd9baa83\" y=\"333.36\"/>\r\n      </g>\r\n     </g>\r\n     <g id=\"text_11\">\r\n      <!-- 0 -->\r\n      <g transform=\"translate(19.925 337.159219)scale(0.1 -0.1)\">\r\n       <use xlink:href=\"#DejaVuSans-48\"/>\r\n      </g>\r\n     </g>\r\n    </g>\r\n    <g id=\"ytick_2\">\r\n     <g id=\"line2d_12\">\r\n      <g>\r\n       <use style=\"stroke:#000000;stroke-width:0.8;\" x=\"33.2875\" xlink:href=\"#m11dd9baa83\" y=\"282.933284\"/>\r\n      </g>\r\n     </g>\r\n     <g id=\"text_12\">\r\n      <!-- 100 -->\r\n      <g transform=\"translate(7.2 286.732503)scale(0.1 -0.1)\">\r\n       <use xlink:href=\"#DejaVuSans-49\"/>\r\n       <use x=\"63.623047\" xlink:href=\"#DejaVuSans-48\"/>\r\n       <use x=\"127.246094\" xlink:href=\"#DejaVuSans-48\"/>\r\n      </g>\r\n     </g>\r\n    </g>\r\n    <g id=\"ytick_3\">\r\n     <g id=\"line2d_13\">\r\n      <g>\r\n       <use style=\"stroke:#000000;stroke-width:0.8;\" x=\"33.2875\" xlink:href=\"#m11dd9baa83\" y=\"232.506568\"/>\r\n      </g>\r\n     </g>\r\n     <g id=\"text_13\">\r\n      <!-- 200 -->\r\n      <g transform=\"translate(7.2 236.305786)scale(0.1 -0.1)\">\r\n       <use xlink:href=\"#DejaVuSans-50\"/>\r\n       <use x=\"63.623047\" xlink:href=\"#DejaVuSans-48\"/>\r\n       <use x=\"127.246094\" xlink:href=\"#DejaVuSans-48\"/>\r\n      </g>\r\n     </g>\r\n    </g>\r\n    <g id=\"ytick_4\">\r\n     <g id=\"line2d_14\">\r\n      <g>\r\n       <use style=\"stroke:#000000;stroke-width:0.8;\" x=\"33.2875\" xlink:href=\"#m11dd9baa83\" y=\"182.079852\"/>\r\n      </g>\r\n     </g>\r\n     <g id=\"text_14\">\r\n      <!-- 300 -->\r\n      <g transform=\"translate(7.2 185.87907)scale(0.1 -0.1)\">\r\n       <use xlink:href=\"#DejaVuSans-51\"/>\r\n       <use x=\"63.623047\" xlink:href=\"#DejaVuSans-48\"/>\r\n       <use x=\"127.246094\" xlink:href=\"#DejaVuSans-48\"/>\r\n      </g>\r\n     </g>\r\n    </g>\r\n    <g id=\"ytick_5\">\r\n     <g id=\"line2d_15\">\r\n      <g>\r\n       <use style=\"stroke:#000000;stroke-width:0.8;\" x=\"33.2875\" xlink:href=\"#m11dd9baa83\" y=\"131.653135\"/>\r\n      </g>\r\n     </g>\r\n     <g id=\"text_15\">\r\n      <!-- 400 -->\r\n      <g transform=\"translate(7.2 135.452354)scale(0.1 -0.1)\">\r\n       <use xlink:href=\"#DejaVuSans-52\"/>\r\n       <use x=\"63.623047\" xlink:href=\"#DejaVuSans-48\"/>\r\n       <use x=\"127.246094\" xlink:href=\"#DejaVuSans-48\"/>\r\n      </g>\r\n     </g>\r\n    </g>\r\n    <g id=\"ytick_6\">\r\n     <g id=\"line2d_16\">\r\n      <g>\r\n       <use style=\"stroke:#000000;stroke-width:0.8;\" x=\"33.2875\" xlink:href=\"#m11dd9baa83\" y=\"81.226419\"/>\r\n      </g>\r\n     </g>\r\n     <g id=\"text_16\">\r\n      <!-- 500 -->\r\n      <g transform=\"translate(7.2 85.025638)scale(0.1 -0.1)\">\r\n       <use xlink:href=\"#DejaVuSans-53\"/>\r\n       <use x=\"63.623047\" xlink:href=\"#DejaVuSans-48\"/>\r\n       <use x=\"127.246094\" xlink:href=\"#DejaVuSans-48\"/>\r\n      </g>\r\n     </g>\r\n    </g>\r\n    <g id=\"ytick_7\">\r\n     <g id=\"line2d_17\">\r\n      <g>\r\n       <use style=\"stroke:#000000;stroke-width:0.8;\" x=\"33.2875\" xlink:href=\"#m11dd9baa83\" y=\"30.799703\"/>\r\n      </g>\r\n     </g>\r\n     <g id=\"text_17\">\r\n      <!-- 600 -->\r\n      <g transform=\"translate(7.2 34.598922)scale(0.1 -0.1)\">\r\n       <use xlink:href=\"#DejaVuSans-54\"/>\r\n       <use x=\"63.623047\" xlink:href=\"#DejaVuSans-48\"/>\r\n       <use x=\"127.246094\" xlink:href=\"#DejaVuSans-48\"/>\r\n      </g>\r\n     </g>\r\n    </g>\r\n   </g>\r\n   <g id=\"patch_103\">\r\n    <path d=\"M 33.2875 333.36 \r\nL 33.2875 7.2 \r\n\" style=\"fill:none;stroke:#000000;stroke-linecap:square;stroke-linejoin:miter;stroke-width:0.8;\"/>\r\n   </g>\r\n   <g id=\"patch_104\">\r\n    <path d=\"M 870.2875 333.36 \r\nL 870.2875 7.2 \r\n\" style=\"fill:none;stroke:#000000;stroke-linecap:square;stroke-linejoin:miter;stroke-width:0.8;\"/>\r\n   </g>\r\n   <g id=\"patch_105\">\r\n    <path d=\"M 33.2875 333.36 \r\nL 870.2875 333.36 \r\n\" style=\"fill:none;stroke:#000000;stroke-linecap:square;stroke-linejoin:miter;stroke-width:0.8;\"/>\r\n   </g>\r\n   <g id=\"patch_106\">\r\n    <path d=\"M 33.2875 7.2 \r\nL 870.2875 7.2 \r\n\" style=\"fill:none;stroke:#000000;stroke-linecap:square;stroke-linejoin:miter;stroke-width:0.8;\"/>\r\n   </g>\r\n  </g>\r\n </g>\r\n <defs>\r\n  <clipPath id=\"pf457d03f1a\">\r\n   <rect height=\"326.16\" width=\"837\" x=\"33.2875\" y=\"7.2\"/>\r\n  </clipPath>\r\n </defs>\r\n</svg>\r\n",
      "image/png": "[encoded data removed]"
     },
     "metadata": {
      "needs_background": "light"
     }
    }
   ],
   "source": [
    "fig = plt.figure(figsize=(15, 6))\n",
    "ax = fig.add_subplot(111)\n",
    "ax.hist(tmp['age'], bins=100)\n",
    "ax.set_xlim(0, 100)\n",
    "ax.set_xticks(range(0,100,10))\n",
    "plt.show()"
   ]
  },
  {
   "cell_type": "code",
   "execution_count": 9,
   "metadata": {},
   "outputs": [
    {
     "output_type": "stream",
     "name": "stdout",
     "text": "240\n228\n262\n253\n349\n597\n427\n667\n841\n637\n624\n832\n737\n415\n521\n758\n695\n393\n417\n105\n"
    }
   ],
   "source": [
    "age_list = [[0, 20], [20, 30], [30, 40], [40, 45], [45, 50], [50, 55], [55, 57], [57, 60], [60, 63], [63, 65], [65, 67], [67, 70], [70, 73], [73, 75], [75, 77], [77, 80], [80, 83], [83, 85], [85, 90], [90, 150]]\n",
    "for i in range(len(age_list)):\n",
    "    print(tmp['age'][(tmp['age'] >= age_list[i][0]) & (tmp['age'] < age_list[i][1])].count())"
   ]
  },
  {
   "cell_type": "code",
   "execution_count": 10,
   "metadata": {},
   "outputs": [],
   "source": [
    "node_list = []\n",
    "for i in range(len(tmp)):\n",
    "    for c_idx in tmp.columns:\n",
    "        if (c_idx != 'age') and (c_idx != 'sex') and (tmp[c_idx][i] not in node_list):\n",
    "            node_list.append(tmp[c_idx][i])"
   ]
  },
  {
   "cell_type": "code",
   "execution_count": 11,
   "metadata": {},
   "outputs": [
    {
     "output_type": "stream",
     "name": "stdout",
     "text": "7752\n"
    }
   ],
   "source": [
    "node_list.extend(['男', '女'])\n",
    "for i in age_list:\n",
    "    node_list.append('age:%d-%d' %(i[0], i[1]))\n",
    "node_size = len(node_list)\n",
    "print(node_size)"
   ]
  },
  {
   "cell_type": "code",
   "execution_count": 12,
   "metadata": {},
   "outputs": [],
   "source": [
    "node_df = pd.DataFrame(node_list)"
   ]
  },
  {
   "cell_type": "code",
   "execution_count": 16,
   "metadata": {},
   "outputs": [
    {
     "output_type": "execute_result",
     "data": {
      "text/plain": "Int64Index([0], dtype='int64')"
     },
     "metadata": {},
     "execution_count": 16
    }
   ],
   "source": [
    "node_df[node_df.values == 1000427842].index"
   ]
  },
  {
   "cell_type": "code",
   "execution_count": 21,
   "metadata": {
    "tags": [
     "outputPrepend",
     "outputPrepend",
     "outputPrepend",
     "outputPrepend",
     "outputPrepend",
     "outputPrepend",
     "outputPrepend",
     "outputPrepend",
     "outputPrepend",
     "outputPrepend",
     "outputPrepend",
     "outputPrepend",
     "outputPrepend",
     "outputPrepend",
     "outputPrepend",
     "outputPrepend",
     "outputPrepend",
     "outputPrepend",
     "outputPrepend",
     "outputPrepend",
     "outputPrepend",
     "outputPrepend",
     "outputPrepend",
     "outputPrepend",
     "outputPrepend",
     "outputPrepend",
     "outputPrepend",
     "outputPrepend",
     "outputPrepend",
     "outputPrepend",
     "outputPrepend",
     "outputPrepend",
     "outputPrepend",
     "outputPrepend",
     "outputPrepend",
     "outputPrepend",
     "outputPrepend",
     "outputPrepend",
     "outputPrepend",
     "outputPrepend",
     "outputPrepend",
     "outputPrepend",
     "outputPrepend",
     "outputPrepend",
     "outputPrepend",
     "outputPrepend",
     "outputPrepend",
     "outputPrepend",
     "outputPrepend",
     "outputPrepend",
     "outputPrepend",
     "outputPrepend",
     "outputPrepend",
     "outputPrepend",
     "outputPrepend",
     "outputPrepend",
     "outputPrepend",
     "outputPrepend",
     "outputPrepend",
     "outputPrepend"
    ]
   },
   "outputs": [
    {
     "output_type": "stream",
     "name": "stdout",
     "text": "500 done!\n1000 done!\n1500 done!\n2000 done!\n2500 done!\n3000 done!\n3500 done!\n4000 done!\n4500 done!\n5000 done!\n5500 done!\n6000 done!\n6500 done!\n7000 done!\n7500 done!\n"
    }
   ],
   "source": [
    "node_matrix = np.matlib.zeros((node_size, node_size))\n",
    "for i in range(node_size):\n",
    "    if (i+1) % 500 == 0:\n",
    "        print('%d done!' %(i + 1))\n",
    "    j = node_df[node_df.values == tmp['number'][i]].index\n",
    "    for c_idx in tmp.columns[1:]:\n",
    "        if c_idx != 'age':\n",
    "            k = node_df[node_df.values == tmp[c_idx][i]].index\n",
    "            # print(k)\n",
    "            node_matrix[i, k] = 1\n",
    "            node_matrix[k, i] = 1\n",
    "        else:\n",
    "            for p in age_list:\n",
    "                if tmp[c_idx][i] < p[1] and tmp[c_idx][i] >= p[0]:\n",
    "                    k = node_df[node_df.values == 'age:%d-%d' %(p[0], p[1])].index\n",
    "                    node_matrix[i, k] = 1\n",
    "                    node_matrix[k, i] = 1\n",
    "with open('../data/node_matrix.pickle', 'wb') as f:\n",
    "    pickle.dump(node_matrix, f)"
   ]
  },
  {
   "cell_type": "code",
   "execution_count": 22,
   "metadata": {},
   "outputs": [],
   "source": [
    "with open('../data/node_df.pickle', 'wb') as f:\n",
    "    pickle.dump(node_df, f)"
   ]
  },
  {
   "cell_type": "code",
   "execution_count": 25,
   "metadata": {},
   "outputs": [],
   "source": [
    "node_df.to_csv('../data/node.csv', encoding='GBK')"
   ]
  },
  {
   "cell_type": "code",
   "execution_count": null,
   "metadata": {},
   "outputs": [],
   "source": []
  }
 ],
 "metadata": {
  "language_info": {
   "codemirror_mode": {
    "name": "ipython",
    "version": 3
   },
   "file_extension": ".py",
   "mimetype": "text/x-python",
   "name": "python",
   "nbconvert_exporter": "python",
   "pygments_lexer": "ipython3",
   "version": "3.7.7-final"
  },
  "orig_nbformat": 2,
  "kernelspec": {
   "name": "python3",
   "display_name": "Python 3"
  }
 },
 "nbformat": 4,
 "nbformat_minor": 2
}